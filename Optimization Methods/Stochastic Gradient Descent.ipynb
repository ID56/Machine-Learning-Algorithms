{
 "cells": [
  {
   "cell_type": "markdown",
   "metadata": {},
   "source": [
    "<h2>Stochastic Gradient Descent</h2>\n",
    "<p>We'll implement SGD on the cancer dataset. Let us have our usual imports:"
   ]
  },
  {
   "cell_type": "code",
   "execution_count": 1,
   "metadata": {},
   "outputs": [],
   "source": [
    "from sklearn.datasets import load_breast_cancer\n",
    "from sklearn.model_selection import train_test_split\n",
    "from sklearn.preprocessing import StandardScaler\n",
    "import numpy as np\n",
    "import matplotlib.pyplot as plt\n",
    "%matplotlib inline"
   ]
  },
  {
   "cell_type": "markdown",
   "metadata": {},
   "source": [
    "We'll split the data into train and test sets, and standard normalize the sets."
   ]
  },
  {
   "cell_type": "code",
   "execution_count": 2,
   "metadata": {},
   "outputs": [],
   "source": [
    "cancer=load_breast_cancer()\n",
    "\n",
    "Xtrain,Xtest,ytrain,ytest=train_test_split(cancer.data,cancer.target,stratify=cancer.target,random_state=56)"
   ]
  },
  {
   "cell_type": "code",
   "execution_count": 3,
   "metadata": {},
   "outputs": [],
   "source": [
    "scaler= StandardScaler()\n",
    "Xtrain=scaler.fit(Xtrain).transform(Xtrain)\n",
    "Xtest=scaler.fit(Xtest).transform(Xtest)"
   ]
  },
  {
   "cell_type": "markdown",
   "metadata": {},
   "source": [
    "Adding bias column."
   ]
  },
  {
   "cell_type": "code",
   "execution_count": 4,
   "metadata": {},
   "outputs": [
    {
     "data": {
      "text/plain": [
       "(426, 31)"
      ]
     },
     "execution_count": 4,
     "metadata": {},
     "output_type": "execute_result"
    }
   ],
   "source": [
    "one=np.ones((Xtrain.shape[0],1))\n",
    "Xtrain=np.concatenate((Xtrain,one),axis=1)\n",
    "np.shape(Xtrain)"
   ]
  },
  {
   "cell_type": "markdown",
   "metadata": {},
   "source": [
    "Defining the basic units of a logistic regression model's computation graph: a=g(z),L(a,y),dw"
   ]
  },
  {
   "cell_type": "code",
   "execution_count": 5,
   "metadata": {},
   "outputs": [],
   "source": [
    "def sigmoid(Z):\n",
    "    return 1/(1+np.exp(-Z))"
   ]
  },
  {
   "cell_type": "code",
   "execution_count": 6,
   "metadata": {},
   "outputs": [],
   "source": [
    "def prediction(X, w):\n",
    "    Z=np.dot(X,w)\n",
    "    a=sigmoid(Z)\n",
    "    return a"
   ]
  },
  {
   "cell_type": "code",
   "execution_count": 7,
   "metadata": {},
   "outputs": [],
   "source": [
    "def loss_function(X, y, w):\n",
    "    m=X.shape[0]\n",
    "    n=X.shape[1]\n",
    "    a=prediction(X,w)\n",
    "    y=y.reshape((m,1))\n",
    "    loss=-(y*np.log(a) + (1-y)*np.log(1-a))\n",
    "    L=(1/m)*np.sum(loss)\n",
    "    \n",
    "    return L"
   ]
  },
  {
   "cell_type": "code",
   "execution_count": 8,
   "metadata": {},
   "outputs": [],
   "source": [
    "def compute_gradient(X, y, w):\n",
    "    m=X.shape[0]\n",
    "    n=X.shape[1]\n",
    "    a=prediction(X,w)\n",
    "    y=y.reshape((m,1))\n",
    "    \n",
    "    dz=a-y\n",
    "    dw=(1/m)*np.dot(X.T,dz)\n",
    "    \n",
    "    return dw"
   ]
  },
  {
   "cell_type": "markdown",
   "metadata": {},
   "source": [
    "<p>We'll initialize a weight vector of zeros, except the bias column which can be 1. Also we'll store the loss per iteration, to plot later in a graph.</p>"
   ]
  },
  {
   "cell_type": "code",
   "execution_count": 9,
   "metadata": {},
   "outputs": [],
   "source": [
    "def SGD(X,y,eta,max_iter):\n",
    "    w=np.zeros((X.shape[1],1))\n",
    "    w[X.shape[1]-1]=1\n",
    "    loss=np.zeros(max_iter)\n",
    "    for i in range(max_iter):\n",
    "        index=np.random.choice(X.shape[0],1)\n",
    "        loss[i]=loss_function(X,y,w)\n",
    "\n",
    "        g=compute_gradient(X[index],y[index],w)\n",
    "        w=w-eta*g\n",
    "        \n",
    "    return (w,loss)"
   ]
  },
  {
   "cell_type": "markdown",
   "metadata": {},
   "source": [
    "Setting learning rate=0.1 and iterations=200. As we can see, stochastic gradient descent is a bit noisy, but it does converge."
   ]
  },
  {
   "cell_type": "code",
   "execution_count": 11,
   "metadata": {},
   "outputs": [
    {
     "data": {
      "image/png": "[encoded data removed]",
      "text/plain": [
       "<Figure size 432x288 with 1 Axes>"
      ]
     },
     "metadata": {
      "needs_background": "light"
     },
     "output_type": "display_data"
    }
   ],
   "source": [
    "eta=0.1\n",
    "max_iter=200\n",
    "\n",
    "(w,loss)=SGD(Xtrain,ytrain,eta,max_iter)\n",
    "\n",
    "plt.plot(loss,color='red')\n",
    "plt.ylabel('Loss')\n",
    "plt.xlabel('Number of iterations')\n",
    "plt.show()"
   ]
  },
  {
   "cell_type": "code",
   "execution_count": 12,
   "metadata": {},
   "outputs": [],
   "source": [
    "one=np.ones((Xtest.shape[0],1))\n",
    "Xtest=np.concatenate((Xtest,one),axis=1)"
   ]
  },
  {
   "cell_type": "code",
   "execution_count": 13,
   "metadata": {},
   "outputs": [
    {
     "name": "stdout",
     "output_type": "stream",
     "text": [
      "95.02762430939227\n"
     ]
    }
   ],
   "source": [
    "def f1score(X,w,y):\n",
    "    a=prediction(X,w)\n",
    "    y=y.reshape((X.shape[0],1))\n",
    "    a= a>=0.5\n",
    "    p= np.sum((a==1)*(a==y))/np.sum(a==1) #precision\n",
    "    r= np.sum((a==1)*(a==y))/np.sum(y==1) #recall\n",
    "    return 2*p*r/(p+r)\n",
    "    \n",
    "    \n",
    "x=f1score(Xtest,w,ytest)\n",
    "print(x*100)"
   ]
  }
 ],
 "metadata": {
  "kernelspec": {
   "display_name": "Python 3",
   "language": "python",
   "name": "python3"
  },
  "language_info": {
   "codemirror_mode": {
    "name": "ipython",
    "version": 3
   },
   "file_extension": ".py",
   "mimetype": "text/x-python",
   "name": "python",
   "nbconvert_exporter": "python",
   "pygments_lexer": "ipython3",
   "version": "3.7.1"
  }
 },
 "nbformat": 4,
 "nbformat_minor": 2
}
