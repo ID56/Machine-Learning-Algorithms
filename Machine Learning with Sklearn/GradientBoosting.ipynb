{
 "cells": [
  {
   "cell_type": "markdown",
   "metadata": {},
   "source": [
    "<h3>Gradient Boosting</h3> <br>Gradient Boosting and uncertainty estimation on the multiclass iris dataset."
   ]
  },
  {
   "cell_type": "code",
   "execution_count": 41,
   "metadata": {},
   "outputs": [
    {
     "name": "stdout",
     "output_type": "stream",
     "text": [
      "['setosa' 'versicolor' 'virginica']\n"
     ]
    }
   ],
   "source": [
    "from sklearn.datasets import load_iris\n",
    "from sklearn.model_selection import train_test_split\n",
    "from sklearn.ensemble import GradientBoostingClassifier\n",
    "\n",
    "iris=load_iris()\n",
    "#print(iris.data)\n",
    "print(iris.target_names)"
   ]
  },
  {
   "cell_type": "code",
   "execution_count": 34,
   "metadata": {},
   "outputs": [
    {
     "name": "stdout",
     "output_type": "stream",
     "text": [
      "Accuracy on training set: 1.000\n",
      "Accuracy on test set: 0.921\n"
     ]
    }
   ],
   "source": [
    "Xtrain,Xtest,ytrain,ytest=train_test_split(iris.data,iris.target,random_state=56)\n",
    "\n",
    "gradboost=GradientBoostingClassifier(learning_rate=.01, random_state=0)\n",
    "gradboost.fit(Xtrain,ytrain)\n",
    "\n",
    "print('Accuracy on training set: {:.3f}'.format(gradboost.score(Xtrain,ytrain)))\n",
    "print('Accuracy on test set: {:.3f}'.format(gradboost.score(Xtest,ytest)))\n",
    "\n",
    "#overfitting a bit"
   ]
  },
  {
   "cell_type": "code",
   "execution_count": 38,
   "metadata": {},
   "outputs": [
    {
     "name": "stdout",
     "output_type": "stream",
     "text": [
      "Decision function: \n",
      "\n",
      "[[-0.50996067 -0.50021871  1.51104752]\n",
      " [ 1.51888794 -0.49516587 -0.51672535]\n",
      " [-0.5099283   1.47621405 -0.30863026]\n",
      " [-0.50996067 -0.50021871  1.51104752]\n",
      " [-0.51703436 -0.50021871  1.51104752]\n",
      " [-0.5951649   0.20063507 -0.52028146]\n",
      " [-0.50988238  1.52615504 -0.51672535]\n",
      " [-0.50988238  1.52615504 -0.51672535]\n",
      " [-0.50987715  0.20063507  1.51665177]\n",
      " [-0.51703467 -0.50021871  1.51104752]]\n"
     ]
    }
   ],
   "source": [
    "print('Decision function: \\n\\n{}'.format(gradboost.decision_function(Xtrain)[:10]))"
   ]
  },
  {
   "cell_type": "markdown",
   "metadata": {},
   "source": [
    "So we can see that only one class has a positive value, while the other two are negative. The decision function works by choosing the class with a positive field."
   ]
  },
  {
   "cell_type": "code",
   "execution_count": 39,
   "metadata": {},
   "outputs": [
    {
     "name": "stdout",
     "output_type": "stream",
     "text": [
      "Probability prediction: \n",
      "\n",
      "[[0.10464938 0.10567385 0.78967677]\n",
      " [0.79110984 0.10557093 0.10331923]\n",
      " [0.10514853 0.76625596 0.12859552]\n",
      " [0.10464938 0.10567385 0.78967677]\n",
      " [0.10398844 0.10575186 0.7902597 ]\n",
      " [0.23288463 0.51612198 0.25099339]\n",
      " [0.10359071 0.79352503 0.10288426]\n",
      " [0.10359071 0.79352503 0.10288426]\n",
      " [0.0941377  0.19157337 0.71428893]\n",
      " [0.10398841 0.10575186 0.79025973]]\n"
     ]
    }
   ],
   "source": [
    "print('Probability prediction: \\n\\n{}'.format(gradboost.predict_proba(Xtrain)[:10]))"
   ]
  },
  {
   "cell_type": "code",
   "execution_count": 40,
   "metadata": {},
   "outputs": [
    {
     "name": "stdout",
     "output_type": "stream",
     "text": [
      "Actual predictions: \n",
      "\n",
      "[2 0 1 2 2 1 1 1 2 2 1 0 0 1 0 2 0 0 1 0 2 1 0 2 2 2 1 2 0 2 0 1 0 0 1 0 1\n",
      " 1 2 1 2 1 2 0 2 2 0 2 0 1 2 0 0 1 1 1 1 2 2 1 2 2 1 0 2 0 2 1 0 1 0 1 1 1\n",
      " 1 2 1 0 0 0 0 2 2 0 0 0 1 1 1 0 1 0 2 0 0 0 1 1 2 0 0 2 2 1 1 2 0 1 2 2 2\n",
      " 1]\n"
     ]
    }
   ],
   "source": [
    "print('Actual predictions: \\n\\n{}'.format(gradboost.predict(Xtrain)))"
   ]
  },
  {
   "cell_type": "markdown",
   "metadata": {},
   "source": [
    "The probabilties of each of the three classes add up to 1. THe class with the highest probability, naturally, is the predicted outcome."
   ]
  }
 ],
 "metadata": {
  "kernelspec": {
   "display_name": "Python 3",
   "language": "python",
   "name": "python3"
  },
  "language_info": {
   "codemirror_mode": {
    "name": "ipython",
    "version": 3
   },
   "file_extension": ".py",
   "mimetype": "text/x-python",
   "name": "python",
   "nbconvert_exporter": "python",
   "pygments_lexer": "ipython3",
   "version": "3.7.1"
  }
 },
 "nbformat": 4,
 "nbformat_minor": 2
}
