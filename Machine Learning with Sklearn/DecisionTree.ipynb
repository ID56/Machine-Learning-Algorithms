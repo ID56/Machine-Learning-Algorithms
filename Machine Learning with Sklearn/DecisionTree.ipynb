{
 "cells": [
  {
   "cell_type": "code",
   "execution_count": 2,
   "metadata": {},
   "outputs": [],
   "source": [
    "from sklearn.datasets import load_breast_cancer\n",
    "from sklearn.tree import DecisionTreeClassifier\n",
    "from sklearn.model_selection import train_test_split\n",
    "\n",
    "import numpy as np\n",
    "import matplotlib.pyplot as plt\n",
    "\n",
    "cancer=load_breast_cancer()"
   ]
  },
  {
   "cell_type": "code",
   "execution_count": 13,
   "metadata": {},
   "outputs": [
    {
     "data": {
      "text/plain": [
       "DecisionTreeClassifier(class_weight=None, criterion='gini', max_depth=None,\n",
       "            max_features=None, max_leaf_nodes=None,\n",
       "            min_impurity_decrease=0.0, min_impurity_split=None,\n",
       "            min_samples_leaf=1, min_samples_split=2,\n",
       "            min_weight_fraction_leaf=0.0, presort=False, random_state=56,\n",
       "            splitter='best')"
      ]
     },
     "execution_count": 13,
     "metadata": {},
     "output_type": "execute_result"
    }
   ],
   "source": [
    "Xtrain,Xtest,ytrain,ytest=train_test_split(cancer.data,cancer.target,stratify=cancer.target,random_state=42)\n",
    "tree=DecisionTreeClassifier(random_state=56)\n",
    "tree.fit(Xtrain,ytrain)"
   ]
  },
  {
   "cell_type": "code",
   "execution_count": 15,
   "metadata": {},
   "outputs": [
    {
     "name": "stdout",
     "output_type": "stream",
     "text": [
      "Accuracy of Decision Tree on train set: 1.000\n",
      "Accuracy of Decision Tree on test set: 0.923\n"
     ]
    }
   ],
   "source": [
    "print('Accuracy of Decision Tree on train set: {:.3f}'.format(tree.score(Xtrain,ytrain)))\n",
    "print('Accuracy of Decision Tree on test set: {:.3f}'.format(tree.score(Xtest,ytest)))"
   ]
  },
  {
   "cell_type": "markdown",
   "metadata": {},
   "source": [
    "From the accuracy check above, we can see that the decision tree has overfit the training set.<br>\n",
    "To counteract this, we'll do some pre-pruning of the tree, such as limiting the maximum depth."
   ]
  },
  {
   "cell_type": "code",
   "execution_count": 50,
   "metadata": {},
   "outputs": [
    {
     "data": {
      "text/plain": [
       "<matplotlib.legend.Legend at 0x1c9679f3e48>"
      ]
     },
     "execution_count": 50,
     "metadata": {},
     "output_type": "execute_result"
    },
    {
     "data": {
      "image/png": "[encoded data removed]",
      "text/plain": [
       "<Figure size 432x288 with 1 Axes>"
      ]
     },
     "metadata": {
      "needs_background": "light"
     },
     "output_type": "display_data"
    }
   ],
   "source": [
    "Xtrain,Xtest,ytrain,ytest=train_test_split(cancer.data,cancer.target,stratify=cancer.target,random_state=42)\n",
    "\n",
    "train_accuracy=[]\n",
    "test_accuracy=[]\n",
    "\n",
    "depth_range=range(2,10)\n",
    "\n",
    "for i in depth_range:\n",
    "    classifier=DecisionTreeClassifier(max_depth=i,random_state=64)\n",
    "    classifier.fit(Xtrain,ytrain)\n",
    "    train_accuracy.append(classifier.score(Xtrain,ytrain))\n",
    "    test_accuracy.append(classifier.score(Xtest,ytest))\n",
    "    \n",
    "plt.plot(depth_range,train_accuracy,label='train')\n",
    "plt.plot(depth_range,test_accuracy,label='test')\n",
    "plt.xlabel('Maximum depth of Decision Tree')\n",
    "plt.ylabel('Accuracy')\n",
    "plt.legend()"
   ]
  },
  {
   "cell_type": "markdown",
   "metadata": {},
   "source": [
    "So we're getting a decent fit at depth=4."
   ]
  }
 ],
 "metadata": {
  "kernelspec": {
   "display_name": "Python 3",
   "language": "python",
   "name": "python3"
  },
  "language_info": {
   "codemirror_mode": {
    "name": "ipython",
    "version": 3
   },
   "file_extension": ".py",
   "mimetype": "text/x-python",
   "name": "python",
   "nbconvert_exporter": "python",
   "pygments_lexer": "ipython3",
   "version": "3.7.1"
  }
 },
 "nbformat": 4,
 "nbformat_minor": 2
}
