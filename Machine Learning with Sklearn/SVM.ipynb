{
 "cells": [
  {
   "cell_type": "code",
   "execution_count": 1,
   "metadata": {},
   "outputs": [],
   "source": [
    "from sklearn.svm import SVC\n",
    "from sklearn.datasets import load_breast_cancer\n",
    "from sklearn.model_selection import train_test_split\n",
    "\n",
    "cancer=load_breast_cancer()\n",
    "Xtrain,Xtest,ytrain,ytest=train_test_split(cancer.data,cancer.target,stratify=cancer.target,random_state=42)"
   ]
  },
  {
   "cell_type": "code",
   "execution_count": 6,
   "metadata": {},
   "outputs": [
    {
     "name": "stdout",
     "output_type": "stream",
     "text": [
      "Accuracy on training set: 1.000\n",
      "Accuracy on test set: 0.629\n"
     ]
    },
    {
     "name": "stderr",
     "output_type": "stream",
     "text": [
      "D:\\Anaconda\\envs\\tensorenv\\lib\\site-packages\\sklearn\\svm\\base.py:196: FutureWarning: The default value of gamma will change from 'auto' to 'scale' in version 0.22 to account better for unscaled features. Set gamma explicitly to 'auto' or 'scale' to avoid this warning.\n",
      "  \"avoid this warning.\", FutureWarning)\n"
     ]
    }
   ],
   "source": [
    "svm=SVC()\n",
    "svm.fit(Xtrain,ytrain)\n",
    "\n",
    "print('Accuracy on training set: {:.3f}'.format(svm.score(Xtrain,ytrain)))\n",
    "print('Accuracy on test set: {:.3f}'.format(svm.score(Xtest,ytest)))"
   ]
  },
  {
   "cell_type": "markdown",
   "metadata": {},
   "source": [
    "Data is overfitting. Needs scaling and some tuning. Let's explore some options:"
   ]
  },
  {
   "cell_type": "code",
   "execution_count": 39,
   "metadata": {},
   "outputs": [
    {
     "name": "stdout",
     "output_type": "stream",
     "text": [
      "Accuracy on training set: 0.946\n",
      "Accuracy on test set: 0.937\n"
     ]
    }
   ],
   "source": [
    "svm=SVC(gamma='scale')\n",
    "svm.fit(Xtrain,ytrain)\n",
    "\n",
    "print('Accuracy on training set: {:.3f}'.format(svm.score(Xtrain,ytrain)))\n",
    "print('Accuracy on test set: {:.3f}'.format(svm.score(Xtest,ytest)))"
   ]
  },
  {
   "cell_type": "code",
   "execution_count": 41,
   "metadata": {},
   "outputs": [
    {
     "name": "stdout",
     "output_type": "stream",
     "text": [
      "Accuracy on scaled training set: 0.979\n",
      "Accuracy on scaled test set: 0.972\n"
     ]
    }
   ],
   "source": [
    "from sklearn.preprocessing import StandardScaler\n",
    "\n",
    "scaler= StandardScaler()\n",
    "Xtrain_scaled=scaler.fit(Xtrain).transform(Xtrain)\n",
    "Xtest_scaled=scaler.fit(Xtest).transform(Xtest)\n",
    "\n",
    "svm=SVC()\n",
    "svm.fit(Xtrain_scaled,ytrain)\n",
    "\n",
    "print('Accuracy on scaled training set: {:.3f}'.format(svm.score(Xtrain_scaled,ytrain)))\n",
    "print('Accuracy on scaled test set: {:.3f}'.format(svm.score(Xtest_scaled,ytest)))\n"
   ]
  },
  {
   "cell_type": "markdown",
   "metadata": {},
   "source": [
    "Standard scaler gives us a decent answer. Also, regularization C can be adjusted if further results are needed."
   ]
  }
 ],
 "metadata": {
  "kernelspec": {
   "display_name": "Python 3",
   "language": "python",
   "name": "python3"
  },
  "language_info": {
   "codemirror_mode": {
    "name": "ipython",
    "version": 3
   },
   "file_extension": ".py",
   "mimetype": "text/x-python",
   "name": "python",
   "nbconvert_exporter": "python",
   "pygments_lexer": "ipython3",
   "version": "3.6.7"
  }
 },
 "nbformat": 4,
 "nbformat_minor": 2
}
