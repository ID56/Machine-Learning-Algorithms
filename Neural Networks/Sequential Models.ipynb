{
 "cells": [
  {
   "cell_type": "markdown",
   "metadata": {},
   "source": [
    "<h2>Training Sequential Models</h2>\n",
    "Let us train a simple sequential neural network model on the MNIST dataset.\n",
    "\n",
    "<h3>Step 1: Imports</h3>"
   ]
  },
  {
   "cell_type": "code",
   "execution_count": 11,
   "metadata": {},
   "outputs": [],
   "source": [
    "import torch\n",
    "from torchvision import datasets, transforms\n",
    "from torch import nn\n",
    "import matplotlib.pyplot as plt"
   ]
  },
  {
   "cell_type": "markdown",
   "metadata": {},
   "source": [
    "<h3>Step 2: Loading the data</h3>"
   ]
  },
  {
   "cell_type": "code",
   "execution_count": 6,
   "metadata": {},
   "outputs": [
    {
     "name": "stdout",
     "output_type": "stream",
     "text": [
      "Downloading http://yann.lecun.com/exdb/mnist/train-images-idx3-ubyte.gz to MNIST_data/MNIST\\raw\\train-images-idx3-ubyte.gz\n"
     ]
    },
    {
     "name": "stderr",
     "output_type": "stream",
     "text": [
      "\n",
      "0it [00:00, ?it/s]\n",
      "  0%|                                                                                      | 0/9912422 [00:00<?, ?it/s]\n",
      "  0%|                                                                        | 8192/9912422 [00:00<05:43, 28806.26it/s]\n",
      "  0%|▎                                                                      | 49152/9912422 [00:01<04:18, 38223.49it/s]\n",
      "  1%|▋                                                                      | 98304/9912422 [00:01<03:15, 50290.18it/s]\n",
      "  2%|█▏                                                                    | 163840/9912422 [00:01<02:26, 66320.60it/s]\n",
      "  2%|█▌                                                                    | 229376/9912422 [00:01<01:53, 85597.28it/s]\n",
      "  4%|██▋                                                                  | 385024/9912422 [00:02<01:27, 108373.76it/s]\n",
      "  7%|████▋                                                                | 671744/9912422 [00:02<01:01, 151394.67it/s]\n",
      "  8%|█████▋                                                               | 811008/9912422 [00:02<00:44, 205932.59it/s]\n",
      "  9%|██████▎                                                              | 909312/9912422 [00:02<00:35, 251039.02it/s]\n",
      " 11%|███████▏                                                            | 1048576/9912422 [00:02<00:27, 323477.60it/s]\n",
      " 11%|███████▊                                                            | 1138688/9912422 [00:03<00:22, 389823.04it/s]\n",
      " 13%|████████▋                                                           | 1261568/9912422 [00:03<00:19, 433863.24it/s]\n",
      " 15%|█████████▉                                                          | 1449984/9912422 [00:03<00:15, 563317.94it/s]\n",
      " 16%|██████████▋                                                         | 1564672/9912422 [00:03<00:14, 564263.12it/s]\n",
      " 17%|███████████▋                                                        | 1703936/9912422 [00:03<00:12, 645970.92it/s]\n",
      " 18%|████████████▎                                                       | 1802240/9912422 [00:03<00:11, 699194.11it/s]\n",
      " 20%|█████████████▎                                                      | 1933312/9912422 [00:03<00:10, 760949.35it/s]\n",
      " 20%|█████████████▉                                                      | 2031616/9912422 [00:04<00:10, 778130.70it/s]\n",
      " 22%|██████████████▉                                                     | 2170880/9912422 [00:04<00:09, 845176.97it/s]\n",
      " 23%|███████████████▌                                                    | 2269184/9912422 [00:04<00:09, 811236.89it/s]\n",
      " 24%|████████████████▌                                                   | 2416640/9912422 [00:04<00:08, 862625.60it/s]\n",
      " 25%|█████████████████▎                                                  | 2514944/9912422 [00:04<00:08, 874743.67it/s]\n",
      " 27%|██████████████████▎                                                 | 2670592/9912422 [00:04<00:07, 933553.20it/s]\n",
      " 28%|██████████████████▉                                                 | 2768896/9912422 [00:04<00:08, 868370.57it/s]\n",
      " 30%|████████████████████                                                | 2924544/9912422 [00:05<00:07, 915310.48it/s]\n",
      " 30%|████████████████████▋                                               | 3022848/9912422 [00:05<00:07, 868573.34it/s]\n",
      " 32%|█████████████████████▊                                              | 3178496/9912422 [00:05<00:07, 933482.36it/s]\n",
      " 33%|██████████████████████▍                                             | 3276800/9912422 [00:05<00:07, 872912.27it/s]\n",
      " 35%|███████████████████████▌                                            | 3440640/9912422 [00:05<00:06, 981029.12it/s]\n",
      " 36%|████████████████████████▎                                           | 3547136/9912422 [00:05<00:07, 889885.10it/s]\n",
      " 37%|█████████████████████████▍                                          | 3702784/9912422 [00:05<00:06, 984833.33it/s]\n",
      " 38%|██████████████████████████▏                                         | 3809280/9912422 [00:05<00:06, 899140.48it/s]\n",
      " 40%|███████████████████████████▏                                        | 3964928/9912422 [00:06<00:05, 998238.75it/s]\n",
      " 41%|███████████████████████████▉                                        | 4079616/9912422 [00:06<00:06, 900522.43it/s]\n",
      " 43%|████████████████████████████▋                                      | 4235264/9912422 [00:06<00:05, 1001373.79it/s]\n",
      " 44%|█████████████████████████████▊                                      | 4349952/9912422 [00:06<00:06, 924035.17it/s]\n",
      " 45%|██████████████████████████████▍                                    | 4497408/9912422 [00:06<00:05, 1028118.10it/s]\n",
      " 47%|███████████████████████████████▋                                    | 4612096/9912422 [00:06<00:05, 953179.32it/s]\n",
      " 48%|████████████████████████████████▏                                  | 4767744/9912422 [00:06<00:04, 1038571.91it/s]\n",
      " 49%|█████████████████████████████████▍                                  | 4882432/9912422 [00:06<00:05, 957499.34it/s]\n",
      " 51%|██████████████████████████████████                                 | 5038080/9912422 [00:07<00:04, 1067517.29it/s]\n",
      " 52%|███████████████████████████████████▍                                | 5160960/9912422 [00:07<00:04, 991286.86it/s]\n",
      " 53%|███████████████████████████████████▊                               | 5300224/9912422 [00:07<00:04, 1078242.62it/s]\n",
      " 55%|█████████████████████████████████████▏                              | 5423104/9912422 [00:07<00:04, 997746.06it/s]\n",
      " 56%|█████████████████████████████████████▋                             | 5570560/9912422 [00:07<00:03, 1100558.75it/s]\n",
      " 57%|███████████████████████████████████████                             | 5693440/9912422 [00:07<00:04, 945914.30it/s]\n",
      " 59%|████████████████████████████████████████▏                           | 5849088/9912422 [00:07<00:04, 884759.54it/s]\n",
      " 61%|████████████████████████████████████████▉                          | 6062080/9912422 [00:08<00:03, 1018060.76it/s]\n",
      " 62%|██████████████████████████████████████████▎                         | 6176768/9912422 [00:08<00:03, 938204.00it/s]\n",
      " 64%|██████████████████████████████████████████▊                        | 6332416/9912422 [00:08<00:03, 1019758.71it/s]\n",
      " 65%|████████████████████████████████████████████▏                       | 6447104/9912422 [00:08<00:03, 970194.58it/s]\n",
      " 66%|████████████████████████████████████████████▌                      | 6586368/9912422 [00:08<00:03, 1012235.24it/s]\n",
      " 68%|█████████████████████████████████████████████▉                      | 6692864/9912422 [00:08<00:03, 898507.17it/s]\n",
      " 69%|███████████████████████████████████████████████                     | 6864896/9912422 [00:08<00:03, 996581.52it/s]\n",
      " 70%|███████████████████████████████████████████████▉                    | 6979584/9912422 [00:09<00:03, 847423.60it/s]\n",
      " 72%|█████████████████████████████████████████████████▎                  | 7184384/9912422 [00:09<00:02, 941106.00it/s]\n",
      " 74%|█████████████████████████████████████████████████▍                 | 7307264/9912422 [00:09<00:02, 1010388.30it/s]\n",
      " 75%|██████████████████████████████████████████████████▍                | 7454720/9912422 [00:09<00:02, 1002838.19it/s]\n",
      " 76%|███████████████████████████████████████████████████▊                | 7561216/9912422 [00:09<00:02, 945199.86it/s]\n",
      " 78%|████████████████████████████████████████████████████▏              | 7725056/9912422 [00:09<00:02, 1024424.39it/s]\n",
      " 79%|█████████████████████████████████████████████████████▊              | 7839744/9912422 [00:09<00:02, 980842.65it/s]\n",
      " 81%|██████████████████████████████████████████████████████             | 8003584/9912422 [00:10<00:01, 1055251.82it/s]\n",
      " 82%|███████████████████████████████████████████████████████▋            | 8118272/9912422 [00:10<00:01, 990098.07it/s]\n",
      " 83%|███████████████████████████████████████████████████████▉           | 8273920/9912422 [00:10<00:01, 1046933.77it/s]\n",
      " 85%|████████████████████████████████████████████████████████▋          | 8388608/9912422 [00:10<00:01, 1000321.31it/s]\n",
      " 86%|█████████████████████████████████████████████████████████▍         | 8503296/9912422 [00:10<00:01, 1010478.06it/s]\n",
      " 87%|███████████████████████████████████████████████████████████         | 8609792/9912422 [00:10<00:01, 932812.12it/s]\n"
     ]
    },
    {
     "name": "stderr",
     "output_type": "stream",
     "text": [
      " 89%|███████████████████████████████████████████████████████████▎       | 8781824/9912422 [00:10<00:01, 1031600.84it/s]\n",
      " 90%|█████████████████████████████████████████████████████████████       | 8896512/9912422 [00:10<00:01, 965205.95it/s]\n",
      " 91%|█████████████████████████████████████████████████████████████▏     | 9060352/9912422 [00:11<00:00, 1032873.93it/s]\n",
      " 93%|██████████████████████████████████████████████████████████████     | 9175040/9912422 [00:11<00:00, 1022604.60it/s]\n",
      " 94%|███████████████████████████████████████████████████████████████▏   | 9347072/9912422 [00:11<00:00, 1077646.02it/s]\n",
      " 95%|███████████████████████████████████████████████████████████████▉   | 9461760/9912422 [00:11<00:00, 1059165.16it/s]\n",
      " 97%|█████████████████████████████████████████████████████████████████▏ | 9641984/9912422 [00:11<00:00, 1123502.25it/s]\n",
      " 99%|██████████████████████████████████████████████████████████████████ | 9764864/9912422 [00:11<00:00, 1104508.11it/s]"
     ]
    },
    {
     "name": "stdout",
     "output_type": "stream",
     "text": [
      "Extracting MNIST_data/MNIST\\raw\\train-images-idx3-ubyte.gz\n",
      "Downloading http://yann.lecun.com/exdb/mnist/train-labels-idx1-ubyte.gz to MNIST_data/MNIST\\raw\\train-labels-idx1-ubyte.gz\n"
     ]
    },
    {
     "name": "stderr",
     "output_type": "stream",
     "text": [
      "\n",
      "\n",
      "0it [00:00, ?it/s]\n",
      "\n",
      "  0%|                                                                                        | 0/28881 [00:00<?, ?it/s]\n",
      "\n",
      " 57%|█████████████████████████████████████████▍                               | 16384/28881 [00:00<00:00, 64144.32it/s]\n",
      "\n",
      "32768it [00:00, 42725.18it/s]                                                                                          "
     ]
    },
    {
     "name": "stdout",
     "output_type": "stream",
     "text": [
      "Extracting MNIST_data/MNIST\\raw\\train-labels-idx1-ubyte.gz\n",
      "Downloading http://yann.lecun.com/exdb/mnist/t10k-images-idx3-ubyte.gz to MNIST_data/MNIST\\raw\\t10k-images-idx3-ubyte.gz\n"
     ]
    },
    {
     "name": "stderr",
     "output_type": "stream",
     "text": [
      "\n",
      "\n",
      "0it [00:00, ?it/s]\n",
      "\n",
      "  0%|                                                                                      | 0/1648877 [00:00<?, ?it/s]\n",
      "\n",
      "  1%|▋                                                                      | 16384/1648877 [00:00<00:32, 50219.18it/s]\n",
      "\n",
      "  3%|██                                                                     | 49152/1648877 [00:01<00:25, 62637.73it/s]\n",
      "\n",
      "  6%|████▏                                                                  | 98304/1648877 [00:01<00:19, 78602.45it/s]\n",
      "\n",
      " 10%|██████▉                                                               | 163840/1648877 [00:01<00:14, 99261.49it/s]\n",
      "\n",
      " 14%|█████████▌                                                           | 229376/1648877 [00:01<00:11, 121709.27it/s]\n",
      "\n",
      " 23%|████████████████                                                     | 385024/1648877 [00:02<00:07, 160321.39it/s]\n",
      "\n",
      " 35%|████████████████████████▎                                            | 581632/1648877 [00:02<00:05, 208666.32it/s]\n",
      "\n",
      " 47%|████████████████████████████████▌                                    | 778240/1648877 [00:02<00:03, 267404.72it/s]\n",
      "\n",
      " 60%|█████████████████████████████████████████▍                           | 991232/1648877 [00:02<00:01, 336181.25it/s]\n",
      "\n",
      " 74%|██████████████████████████████████████████████████                  | 1212416/1648877 [00:03<00:01, 411753.06it/s]\n",
      "\n",
      " 84%|█████████████████████████████████████████████████████████▍          | 1392640/1648877 [00:03<00:00, 429015.44it/s]\n",
      "\n",
      "1654784it [00:03, 469899.41it/s]                                                                                       "
     ]
    },
    {
     "name": "stdout",
     "output_type": "stream",
     "text": [
      "Extracting MNIST_data/MNIST\\raw\\t10k-images-idx3-ubyte.gz\n",
      "Downloading http://yann.lecun.com/exdb/mnist/t10k-labels-idx1-ubyte.gz to MNIST_data/MNIST\\raw\\t10k-labels-idx1-ubyte.gz\n"
     ]
    },
    {
     "name": "stderr",
     "output_type": "stream",
     "text": [
      "\n",
      "\n",
      "0it [00:00, ?it/s]\n",
      "\n",
      "  0%|                                                                                         | 0/4542 [00:00<?, ?it/s]\n",
      "\n",
      "8192it [00:00, 14235.84it/s]                                                                                           "
     ]
    },
    {
     "name": "stdout",
     "output_type": "stream",
     "text": [
      "Extracting MNIST_data/MNIST\\raw\\t10k-labels-idx1-ubyte.gz\n",
      "Processing...\n",
      "Done!\n"
     ]
    },
    {
     "name": "stderr",
     "output_type": "stream",
     "text": [
      "\n",
      "9920512it [00:28, 1104508.11it/s]                                                                                      "
     ]
    }
   ],
   "source": [
    "transform = transforms.Compose([transforms.ToTensor(),\n",
    "                              transforms.Normalize((0.5,), (0.5,)),\n",
    "                              ])\n",
    "trainset = datasets.MNIST('MNIST_data/', download=True, train=True, transform=transform)"
   ]
  },
  {
   "cell_type": "code",
   "execution_count": 9,
   "metadata": {},
   "outputs": [],
   "source": [
    "trainloader = torch.utils.data.DataLoader(trainset, batch_size=64, shuffle=True)"
   ]
  },
  {
   "cell_type": "markdown",
   "metadata": {},
   "source": [
    "<h3>Step 3: Visualizing our data</h3>"
   ]
  },
  {
   "cell_type": "code",
   "execution_count": 16,
   "metadata": {},
   "outputs": [
    {
     "name": "stdout",
     "output_type": "stream",
     "text": [
      "<class 'torch.Tensor'>\n",
      "torch.Size([64, 1, 28, 28])\n",
      "torch.Size([64])\n"
     ]
    },
    {
     "data": {
      "image/png": "[encoded data removed]",
      "text/plain": [
       "<Figure size 432x288 with 1 Axes>"
      ]
     },
     "metadata": {
      "needs_background": "light"
     },
     "output_type": "display_data"
    }
   ],
   "source": [
    "dataiter = iter(trainloader)\n",
    "images, labels = dataiter.next()\n",
    "print(type(images))\n",
    "print(images.shape)\n",
    "print(labels.shape)\n",
    "plt.imshow(images[1].numpy().squeeze(), cmap='Greys_r');"
   ]
  },
  {
   "cell_type": "markdown",
   "metadata": {},
   "source": [
    "<h3>Step 4: Set hyperparameters</h3>"
   ]
  },
  {
   "cell_type": "code",
   "execution_count": 20,
   "metadata": {},
   "outputs": [],
   "source": [
    "input_size = 784\n",
    "hidden_sizes = [128, 64]\n",
    "output_size = 10\n",
    "learning_rate = 0.03\n",
    "epochs=5"
   ]
  },
  {
   "cell_type": "markdown",
   "metadata": {},
   "source": [
    "<h3>Step 5: Defining the model</h3>"
   ]
  },
  {
   "cell_type": "code",
   "execution_count": 21,
   "metadata": {},
   "outputs": [],
   "source": [
    "from torch import optim\n",
    "model = nn.Sequential(nn.Linear(input_size, hidden_sizes[0]),\n",
    "                      nn.ReLU(),\n",
    "                      nn.Linear(hidden_sizes[0], hidden_sizes[1]),\n",
    "                      nn.ReLU(),\n",
    "                      nn.Linear(hidden_sizes[1], output_size),\n",
    "                      nn.LogSoftmax(dim=1))\n",
    "\n",
    "criterion = nn.NLLLoss()\n",
    "optimizer = optim.SGD(model.parameters(), lr=learning_rate)"
   ]
  },
  {
   "cell_type": "markdown",
   "metadata": {},
   "source": [
    "<h3>Step 6: Training the model</h3>"
   ]
  },
  {
   "cell_type": "code",
   "execution_count": 22,
   "metadata": {},
   "outputs": [
    {
     "name": "stdout",
     "output_type": "stream",
     "text": [
      "Training loss: 0.6001399611549845\n",
      "Training loss: 0.2771080797200582\n",
      "Training loss: 0.21069412981507493\n",
      "Training loss: 0.16802556856449988\n",
      "Training loss: 0.139167630107704\n"
     ]
    }
   ],
   "source": [
    "for e in range(epochs):\n",
    "    running_loss = 0\n",
    "    for images, labels in trainloader:\n",
    "        #flatten\n",
    "        images = images.view(images.shape[0], -1)\n",
    "    \n",
    "        optimizer.zero_grad()\n",
    "        output = model.forward(images)\n",
    "        loss = criterion(output, labels)\n",
    "        loss.backward()\n",
    "        running_loss += loss.item()\n",
    "        optimizer.step()\n",
    "        \n",
    "    else:\n",
    "        print(f\"Training loss: {running_loss/len(trainloader)}\")"
   ]
  },
  {
   "cell_type": "markdown",
   "metadata": {},
   "source": [
    "<h3>Step 7: Taking the model out for a spin</h3>"
   ]
  },
  {
   "cell_type": "code",
   "execution_count": 39,
   "metadata": {},
   "outputs": [
    {
     "name": "stdout",
     "output_type": "stream",
     "text": [
      "torch.return_types.topk(\n",
      "values=tensor([[0.9154]]),\n",
      "indices=tensor([[2]]))\n"
     ]
    },
    {
     "data": {
      "image/png": "[encoded data removed]",
      "text/plain": [
       "<Figure size 432x288 with 1 Axes>"
      ]
     },
     "metadata": {
      "needs_background": "light"
     },
     "output_type": "display_data"
    }
   ],
   "source": [
    "images, labels = next(iter(trainloader))\n",
    "\n",
    "img = images[0].view(1, 784)\n",
    "with torch.no_grad():\n",
    "    logits = model.forward(img)\n",
    "\n",
    "ps = torch.softmax(logits, dim=1)\n",
    "plt.imshow(images[0].view(28,28), cmap='Greys_r');\n",
    "print(ps.topk(1,dim=1))"
   ]
  }
 ],
 "metadata": {
  "kernelspec": {
   "display_name": "Python 3",
   "language": "python",
   "name": "python3"
  },
  "language_info": {
   "codemirror_mode": {
    "name": "ipython",
    "version": 3
   },
   "file_extension": ".py",
   "mimetype": "text/x-python",
   "name": "python",
   "nbconvert_exporter": "python",
   "pygments_lexer": "ipython3",
   "version": "3.6.7"
  }
 },
 "nbformat": 4,
 "nbformat_minor": 2
}
